{
 "cells": [
  {
   "cell_type": "code",
   "execution_count": 4,
   "metadata": {},
   "outputs": [],
   "source": [
    "import alpha_vantage\n",
    "import pandas\n",
    "import time\n",
    "from alpha_vantage.timeseries import TimeSeries"
   ]
  },
  {
   "cell_type": "code",
   "execution_count": 5,
   "metadata": {},
   "outputs": [],
   "source": [
    "MyKey ='28M2VQTADUQ0HSCP'\n",
    "ts = TimeSeries(MyKey)"
   ]
  },
  {
   "cell_type": "code",
   "execution_count": 7,
   "metadata": {},
   "outputs": [
    {
     "name": "stdout",
     "output_type": "stream",
     "text": [
      "1931\n",
      "1939\n",
      "{'2019-12-05 11:32:00', '2019-12-04 11:31:00', '2019-12-05 11:31:00', '2019-12-04 11:37:00', '2019-12-06 09:33:00', '2019-12-06 09:32:00', '2019-12-04 11:32:00', '2019-12-06 12:06:00'}\n"
     ]
    }
   ],
   "source": [
    "data, meta_data = ts.get_intraday(interval='1min', symbol='MSFT', outputsize='full')\n",
    "print(len(data))\n",
    "time.sleep(5)\n",
    "data2, meta_data2 = ts.get_intraday(interval='1min', symbol='TSLA',  outputsize='full')\n",
    "print(len(data2))\n",
    "print(set(data.keys()).difference(data2.keys()))"
   ]
  },
  {
   "cell_type": "code",
   "execution_count": 8,
   "metadata": {},
   "outputs": [
    {
     "name": "stdout",
     "output_type": "stream",
     "text": [
      "1941\n",
      "1939\n",
      "{'2019-12-05 11:01:00', '2019-12-05 11:31:00', '2019-12-04 11:57:00'}\n"
     ]
    }
   ],
   "source": [
    "data, meta_data = ts.get_intraday(interval='1min', symbol='MSFT', outputsize='full')\n",
    "print(len(data))\n",
    "time.sleep(5)\n",
    "data2, meta_data2 = ts.get_intraday(interval='1min', symbol='TSLA',  outputsize='full')\n",
    "print(len(data2))\n",
    "print(set(data.keys()).difference(data2.keys()))"
   ]
  },
  {
   "cell_type": "code",
   "execution_count": 9,
   "metadata": {},
   "outputs": [
    {
     "name": "stdout",
     "output_type": "stream",
     "text": [
      "1931\n",
      "1930\n",
      "{'2019-12-03 11:33:00'}\n"
     ]
    }
   ],
   "source": [
    "data, meta_data = ts.get_intraday(interval='1min', symbol='MSFT', outputsize='full')\n",
    "print(len(data))\n",
    "time.sleep(5)\n",
    "data2, meta_data2 = ts.get_intraday(interval='1min', symbol='TSLA',  outputsize='full')\n",
    "print(len(data2))\n",
    "print(set(data.keys()).difference(data2.keys()))"
   ]
  },
  {
   "cell_type": "code",
   "execution_count": 10,
   "metadata": {},
   "outputs": [
    {
     "name": "stdout",
     "output_type": "stream",
     "text": [
      "1931\n",
      "1930\n",
      "{'2019-12-03 11:33:00'}\n"
     ]
    }
   ],
   "source": [
    "data, meta_data = ts.get_intraday(interval='1min', symbol='MSFT', outputsize='full')\n",
    "print(len(data))\n",
    "time.sleep(5)\n",
    "data2, meta_data2 = ts.get_intraday(interval='1min', symbol='TSLA',  outputsize='full')\n",
    "print(len(data2))\n",
    "print(set(data.keys()).difference(data2.keys()))"
   ]
  },
  {
   "cell_type": "code",
   "execution_count": 11,
   "metadata": {},
   "outputs": [
    {
     "name": "stdout",
     "output_type": "stream",
     "text": [
      "1931\n",
      "1939\n",
      "{'2019-12-05 11:32:00', '2019-12-04 11:31:00', '2019-12-05 11:31:00', '2019-12-04 11:37:00', '2019-12-06 09:33:00', '2019-12-06 09:32:00', '2019-12-04 11:32:00', '2019-12-06 12:06:00'}\n"
     ]
    }
   ],
   "source": [
    "data, meta_data = ts.get_intraday(interval='1min', symbol='MSFT', outputsize='full')\n",
    "print(len(data))\n",
    "time.sleep(5)\n",
    "data2, meta_data2 = ts.get_intraday(interval='1min', symbol='TSLA',  outputsize='full')\n",
    "print(len(data2))\n",
    "print(set(data.keys()).difference(data2.keys()))"
   ]
  },
  {
   "cell_type": "code",
   "execution_count": 12,
   "metadata": {},
   "outputs": [
    {
     "name": "stdout",
     "output_type": "stream",
     "text": [
      "1931\n",
      "1939\n",
      "{'2019-12-05 11:32:00', '2019-12-04 11:31:00', '2019-12-05 11:31:00', '2019-12-04 11:37:00', '2019-12-06 09:33:00', '2019-12-06 09:32:00', '2019-12-04 11:32:00', '2019-12-06 12:06:00'}\n"
     ]
    }
   ],
   "source": [
    "data, meta_data = ts.get_intraday(interval='1min', symbol='MSFT', outputsize='full')\n",
    "print(len(data))\n",
    "time.sleep(5)\n",
    "data2, meta_data2 = ts.get_intraday(interval='1min', symbol='TSLA',  outputsize='full')\n",
    "print(len(data2))\n",
    "print(set(data.keys()).difference(data2.keys()))"
   ]
  },
  {
   "cell_type": "code",
   "execution_count": 13,
   "metadata": {},
   "outputs": [
    {
     "name": "stdout",
     "output_type": "stream",
     "text": [
      "1931\n",
      "1939\n",
      "{'2019-12-05 11:32:00', '2019-12-04 11:31:00', '2019-12-05 11:31:00', '2019-12-04 11:37:00', '2019-12-06 09:33:00', '2019-12-06 09:32:00', '2019-12-04 11:32:00', '2019-12-06 12:06:00'}\n"
     ]
    }
   ],
   "source": [
    "data, meta_data = ts.get_intraday(interval='1min', symbol='MSFT', outputsize='full')\n",
    "print(len(data))\n",
    "time.sleep(5)\n",
    "data2, meta_data2 = ts.get_intraday(interval='1min', symbol='TSLA',  outputsize='full')\n",
    "print(len(data2))\n",
    "print(set(data.keys()).difference(data2.keys()))"
   ]
  },
  {
   "cell_type": "code",
   "execution_count": 14,
   "metadata": {},
   "outputs": [
    {
     "name": "stdout",
     "output_type": "stream",
     "text": [
      "1720\n",
      "1716\n",
      "{'2019-12-05 11:01:00', '2019-12-11 12:14:00', '2019-12-11 12:16:00', '2019-12-05 11:31:00'}\n"
     ]
    }
   ],
   "source": [
    "data, meta_data = ts.get_intraday(interval='1min', symbol='MSFT', outputsize='full')\n",
    "print(len(data))\n",
    "time.sleep(5)\n",
    "data2, meta_data2 = ts.get_intraday(interval='1min', symbol='TSLA',  outputsize='full')\n",
    "print(len(data2))\n",
    "print(set(data.keys()).difference(data2.keys()))"
   ]
  },
  {
   "cell_type": "code",
   "execution_count": 15,
   "metadata": {},
   "outputs": [
    {
     "name": "stdout",
     "output_type": "stream",
     "text": [
      "1720\n",
      "1718\n",
      "{'2019-12-05 11:01:00', '2019-12-11 12:14:00', '2019-12-05 11:31:00'}\n"
     ]
    }
   ],
   "source": [
    "data, meta_data = ts.get_intraday(interval='1min', symbol='MSFT', outputsize='full')\n",
    "print(len(data))\n",
    "time.sleep(5)\n",
    "data2, meta_data2 = ts.get_intraday(interval='1min', symbol='TSLA',  outputsize='full')\n",
    "print(len(data2))\n",
    "print(set(data.keys()).difference(data2.keys()))"
   ]
  },
  {
   "cell_type": "code",
   "execution_count": 16,
   "metadata": {},
   "outputs": [
    {
     "name": "stdout",
     "output_type": "stream",
     "text": [
      "1720\n",
      "1718\n",
      "{'2019-12-05 11:01:00', '2019-12-11 12:14:00', '2019-12-05 11:31:00'}\n"
     ]
    }
   ],
   "source": [
    "data, meta_data = ts.get_intraday(interval='1min', symbol='MSFT', outputsize='full')\n",
    "print(len(data))\n",
    "time.sleep(5)\n",
    "data2, meta_data2 = ts.get_intraday(interval='1min', symbol='TSLA',  outputsize='full')\n",
    "print(len(data2))\n",
    "print(set(data.keys()).difference(data2.keys()))"
   ]
  },
  {
   "cell_type": "code",
   "execution_count": 21,
   "metadata": {},
   "outputs": [
    {
     "name": "stdout",
     "output_type": "stream",
     "text": [
      "1731\n",
      "1727\n",
      "{'2019-12-05 11:01:00', '2019-12-06 11:08:00', '2019-12-10 14:39:00', '2019-12-11 11:01:00', '2019-12-10 14:38:00', '2019-12-11 12:14:00', '2019-12-11 12:27:00', '2019-12-11 11:02:00', '2019-12-09 10:52:00'}\n",
      "1731\n",
      "1729\n",
      "{'2019-12-05 11:01:00', '2019-12-06 11:08:00', '2019-12-10 14:39:00', '2019-12-11 11:01:00', '2019-12-10 14:38:00', '2019-12-11 12:14:00', '2019-12-11 11:02:00', '2019-12-09 10:52:00'}\n",
      "1730\n",
      "1729\n",
      "{'2019-12-05 11:32:00', '2019-12-11 12:14:00', '2019-12-05 11:31:00', '2019-12-11 10:56:00', '2019-12-06 09:32:00', '2019-12-06 09:33:00', '2019-12-06 12:06:00'}\n",
      "1730\n",
      "1729\n",
      "{'2019-12-05 11:32:00', '2019-12-11 12:14:00', '2019-12-05 11:31:00', '2019-12-11 10:56:00', '2019-12-06 09:32:00', '2019-12-06 09:33:00', '2019-12-06 12:06:00'}\n",
      "1730\n"
     ]
    },
    {
     "ename": "KeyError",
     "evalue": "'Time Series (1min)'",
     "output_type": "error",
     "traceback": [
      "\u001b[1;31m---------------------------------------------------------------------------\u001b[0m",
      "\u001b[1;31mKeyError\u001b[0m                                  Traceback (most recent call last)",
      "\u001b[1;32m<ipython-input-21-811e2d119334>\u001b[0m in \u001b[0;36m<module>\u001b[1;34m\u001b[0m\n\u001b[0;32m     10\u001b[0m     \u001b[0mprint\u001b[0m\u001b[1;33m(\u001b[0m\u001b[0mlen\u001b[0m\u001b[1;33m(\u001b[0m\u001b[0mdata\u001b[0m\u001b[1;33m)\u001b[0m\u001b[1;33m)\u001b[0m\u001b[1;33m\u001b[0m\u001b[1;33m\u001b[0m\u001b[0m\n\u001b[0;32m     11\u001b[0m     \u001b[0mtime\u001b[0m\u001b[1;33m.\u001b[0m\u001b[0msleep\u001b[0m\u001b[1;33m(\u001b[0m\u001b[1;36m10\u001b[0m\u001b[1;33m)\u001b[0m\u001b[1;33m\u001b[0m\u001b[1;33m\u001b[0m\u001b[0m\n\u001b[1;32m---> 12\u001b[1;33m     \u001b[0mdata2\u001b[0m\u001b[1;33m,\u001b[0m \u001b[0mmeta_data2\u001b[0m \u001b[1;33m=\u001b[0m \u001b[0mts\u001b[0m\u001b[1;33m.\u001b[0m\u001b[0mget_intraday\u001b[0m\u001b[1;33m(\u001b[0m\u001b[0minterval\u001b[0m\u001b[1;33m=\u001b[0m\u001b[1;34m'1min'\u001b[0m\u001b[1;33m,\u001b[0m \u001b[0msymbol\u001b[0m\u001b[1;33m=\u001b[0m\u001b[1;34m'TSLA'\u001b[0m\u001b[1;33m,\u001b[0m  \u001b[0moutputsize\u001b[0m\u001b[1;33m=\u001b[0m\u001b[1;34m'full'\u001b[0m\u001b[1;33m)\u001b[0m\u001b[1;33m\u001b[0m\u001b[1;33m\u001b[0m\u001b[0m\n\u001b[0m\u001b[0;32m     13\u001b[0m     \u001b[0mprint\u001b[0m\u001b[1;33m(\u001b[0m\u001b[0mlen\u001b[0m\u001b[1;33m(\u001b[0m\u001b[0mdata2\u001b[0m\u001b[1;33m)\u001b[0m\u001b[1;33m)\u001b[0m\u001b[1;33m\u001b[0m\u001b[1;33m\u001b[0m\u001b[0m\n\u001b[0;32m     14\u001b[0m     \u001b[0mprint\u001b[0m\u001b[1;33m(\u001b[0m\u001b[0mset\u001b[0m\u001b[1;33m(\u001b[0m\u001b[0mdata\u001b[0m\u001b[1;33m.\u001b[0m\u001b[0mkeys\u001b[0m\u001b[1;33m(\u001b[0m\u001b[1;33m)\u001b[0m\u001b[1;33m)\u001b[0m\u001b[1;33m.\u001b[0m\u001b[0mdifference\u001b[0m\u001b[1;33m(\u001b[0m\u001b[0mdata2\u001b[0m\u001b[1;33m.\u001b[0m\u001b[0mkeys\u001b[0m\u001b[1;33m(\u001b[0m\u001b[1;33m)\u001b[0m\u001b[1;33m)\u001b[0m\u001b[1;33m)\u001b[0m\u001b[1;33m\u001b[0m\u001b[1;33m\u001b[0m\u001b[0m\n",
      "\u001b[1;32m~\\Anaconda3\\envs\\TradingProgram\\lib\\site-packages\\alpha_vantage\\alphavantage.py\u001b[0m in \u001b[0;36m_format_wrapper\u001b[1;34m(self, *args, **kwargs)\u001b[0m\n\u001b[0;32m    176\u001b[0m             \u001b[1;32mif\u001b[0m \u001b[1;34m'json'\u001b[0m \u001b[1;32min\u001b[0m \u001b[0mself\u001b[0m\u001b[1;33m.\u001b[0m\u001b[0moutput_format\u001b[0m\u001b[1;33m.\u001b[0m\u001b[0mlower\u001b[0m\u001b[1;33m(\u001b[0m\u001b[1;33m)\u001b[0m \u001b[1;32mor\u001b[0m \u001b[1;34m'pandas'\u001b[0m\u001b[0;31m \u001b[0m\u001b[0;31m\\\u001b[0m\u001b[1;33m\u001b[0m\u001b[1;33m\u001b[0m\u001b[0m\n\u001b[0;32m    177\u001b[0m                     \u001b[1;32min\u001b[0m \u001b[0mself\u001b[0m\u001b[1;33m.\u001b[0m\u001b[0moutput_format\u001b[0m\u001b[1;33m.\u001b[0m\u001b[0mlower\u001b[0m\u001b[1;33m(\u001b[0m\u001b[1;33m)\u001b[0m\u001b[1;33m:\u001b[0m\u001b[1;33m\u001b[0m\u001b[1;33m\u001b[0m\u001b[0m\n\u001b[1;32m--> 178\u001b[1;33m                 \u001b[0mdata\u001b[0m \u001b[1;33m=\u001b[0m \u001b[0mcall_response\u001b[0m\u001b[1;33m[\u001b[0m\u001b[0mdata_key\u001b[0m\u001b[1;33m]\u001b[0m\u001b[1;33m\u001b[0m\u001b[1;33m\u001b[0m\u001b[0m\n\u001b[0m\u001b[0;32m    179\u001b[0m                 \u001b[1;32mif\u001b[0m \u001b[0mmeta_data_key\u001b[0m \u001b[1;32mis\u001b[0m \u001b[1;32mnot\u001b[0m \u001b[1;32mNone\u001b[0m\u001b[1;33m:\u001b[0m\u001b[1;33m\u001b[0m\u001b[1;33m\u001b[0m\u001b[0m\n\u001b[0;32m    180\u001b[0m                     \u001b[0mmeta_data\u001b[0m \u001b[1;33m=\u001b[0m \u001b[0mcall_response\u001b[0m\u001b[1;33m[\u001b[0m\u001b[0mmeta_data_key\u001b[0m\u001b[1;33m]\u001b[0m\u001b[1;33m\u001b[0m\u001b[1;33m\u001b[0m\u001b[0m\n",
      "\u001b[1;31mKeyError\u001b[0m: 'Time Series (1min)'"
     ]
    }
   ],
   "source": [
    "data, meta_data = ts.get_intraday(interval='1min', symbol='MSFT', outputsize='full')\n",
    "print(len(data))\n",
    "time.sleep(20)\n",
    "data2, meta_data2 = ts.get_intraday(interval='1min', symbol='TSLA',  outputsize='full')\n",
    "print(len(data2))\n",
    "print(set(data.keys()).difference(data2.keys()))\n",
    "time.sleep(20)\n",
    "while data or data2 < 1950:\n",
    "    data, meta_data = ts.get_intraday(interval='1min', symbol='MSFT', outputsize='full')\n",
    "    print(len(data))\n",
    "    time.sleep(20)\n",
    "    data2, meta_data2 = ts.get_intraday(interval='1min', symbol='TSLA',  outputsize='full')\n",
    "    print(len(data2))\n",
    "    print(set(data.keys()).difference(data2.keys()))\n",
    "    "
   ]
  },
  {
   "cell_type": "code",
   "execution_count": null,
   "metadata": {},
   "outputs": [],
   "source": []
  }
 ],
 "metadata": {
  "kernelspec": {
   "display_name": "Python 3",
   "language": "python",
   "name": "python3"
  },
  "language_info": {
   "codemirror_mode": {
    "name": "ipython",
    "version": 3
   },
   "file_extension": ".py",
   "mimetype": "text/x-python",
   "name": "python",
   "nbconvert_exporter": "python",
   "pygments_lexer": "ipython3",
   "version": "3.7.3"
  }
 },
 "nbformat": 4,
 "nbformat_minor": 2
}
