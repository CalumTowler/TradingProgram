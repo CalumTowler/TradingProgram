{
 "cells": [
  {
   "cell_type": "code",
   "execution_count": 1,
   "metadata": {},
   "outputs": [],
   "source": [
    "import sys\n",
    "print(sys.path)"
   ]
  },
  {
   "cell_type": "code",
   "execution_count": 2,
   "metadata": {},
   "outputs": [],
   "source": [
    "sys.path.append('C:\\\\Users\\\\Calum\\Trading Program\\\\TradingProgram\\\\Correlator')"
   ]
  },
  {
   "cell_type": "code",
   "execution_count": 3,
   "metadata": {},
   "outputs": [
    {
     "name": "stdout",
     "output_type": "stream",
     "text": [
      "['C:\\\\Users\\\\Calum\\\\Trading Program\\\\TradingProgram', 'C:\\\\Users\\\\Calum\\\\Anaconda3\\\\envs\\\\TradingProgram\\\\python37.zip', 'C:\\\\Users\\\\Calum\\\\Anaconda3\\\\envs\\\\TradingProgram\\\\DLLs', 'C:\\\\Users\\\\Calum\\\\Anaconda3\\\\envs\\\\TradingProgram\\\\lib', 'C:\\\\Users\\\\Calum\\\\Anaconda3\\\\envs\\\\TradingProgram', '', 'C:\\\\Users\\\\Calum\\\\AppData\\\\Roaming\\\\Python\\\\Python37\\\\site-packages', 'C:\\\\Users\\\\Calum\\\\Anaconda3\\\\envs\\\\TradingProgram\\\\lib\\\\site-packages', 'C:\\\\Users\\\\Calum\\\\Anaconda3\\\\envs\\\\TradingProgram\\\\lib\\\\site-packages\\\\win32', 'C:\\\\Users\\\\Calum\\\\Anaconda3\\\\envs\\\\TradingProgram\\\\lib\\\\site-packages\\\\win32\\\\lib', 'C:\\\\Users\\\\Calum\\\\Anaconda3\\\\envs\\\\TradingProgram\\\\lib\\\\site-packages\\\\Pythonwin', 'C:\\\\Users\\\\Calum\\\\Anaconda3\\\\envs\\\\TradingProgram\\\\lib\\\\site-packages\\\\IPython\\\\extensions', 'C:\\\\Users\\\\Calum\\\\.ipython', 'C:\\\\Users\\\\Calum\\\\Trading Program\\\\TradingProgram\\\\Correlator']\n"
     ]
    }
   ],
   "source": [
    "print(sys.path)"
   ]
  },
  {
   "cell_type": "code",
   "execution_count": 4,
   "metadata": {},
   "outputs": [],
   "source": [
    "from Correlator import correlator"
   ]
  },
  {
   "cell_type": "code",
   "execution_count": 5,
   "metadata": {},
   "outputs": [
    {
     "name": "stdout",
     "output_type": "stream",
     "text": [
      "[[1.         0.92942857]\n",
      " [0.92942857 1.        ]]\n"
     ]
    }
   ],
   "source": [
    "a = correlator()"
   ]
  },
  {
   "cell_type": "code",
   "execution_count": 6,
   "metadata": {},
   "outputs": [
    {
     "name": "stdout",
     "output_type": "stream",
     "text": [
      "<module 'ntpath' from 'C:\\\\Users\\\\Calum\\\\Anaconda3\\\\envs\\\\TradingProgram\\\\lib\\\\ntpath.py'>\n"
     ]
    }
   ],
   "source": [
    "import os\n",
    "print(os.path)"
   ]
  },
  {
   "cell_type": "code",
   "execution_count": null,
   "metadata": {},
   "outputs": [],
   "source": []
  }
 ],
 "metadata": {
  "kernelspec": {
   "display_name": "Python 3",
   "language": "python",
   "name": "python3"
  },
  "language_info": {
   "codemirror_mode": {
    "name": "ipython",
    "version": 3
   },
   "file_extension": ".py",
   "mimetype": "text/x-python",
   "name": "python",
   "nbconvert_exporter": "python",
   "pygments_lexer": "ipython3",
   "version": "3.7.3"
  }
 },
 "nbformat": 4,
 "nbformat_minor": 2
}
