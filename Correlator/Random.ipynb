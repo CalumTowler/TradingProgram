{
 "cells": [
  {
   "cell_type": "code",
   "execution_count": 1,
   "metadata": {},
   "outputs": [],
   "source": [
    "from Correlator import correlator"
   ]
  },
  {
   "cell_type": "code",
   "execution_count": 4,
   "metadata": {},
   "outputs": [
    {
     "name": "stdout",
     "output_type": "stream",
     "text": [
      "0.9294285705579143\n"
     ]
    }
   ],
   "source": [
    "a = correlator()\n",
    "print(a)"
   ]
  },
  {
   "cell_type": "code",
   "execution_count": 3,
   "metadata": {},
   "outputs": [
    {
     "name": "stdout",
     "output_type": "stream",
     "text": [
      "<class 'numpy.float64'>\n"
     ]
    }
   ],
   "source": [
    "print(type(a))"
   ]
  },
  {
   "cell_type": "code",
   "execution_count": 4,
   "metadata": {},
   "outputs": [
    {
     "name": "stdout",
     "output_type": "stream",
     "text": [
      "['C:\\\\Users\\\\Calum\\\\Trading Program\\\\TradingProgram\\\\Correlator', 'C:\\\\Users\\\\Calum\\\\Anaconda3\\\\envs\\\\TradingProgram\\\\python37.zip', 'C:\\\\Users\\\\Calum\\\\Anaconda3\\\\envs\\\\TradingProgram\\\\DLLs', 'C:\\\\Users\\\\Calum\\\\Anaconda3\\\\envs\\\\TradingProgram\\\\lib', 'C:\\\\Users\\\\Calum\\\\Anaconda3\\\\envs\\\\TradingProgram', '', 'C:\\\\Users\\\\Calum\\\\AppData\\\\Roaming\\\\Python\\\\Python37\\\\site-packages', 'C:\\\\Users\\\\Calum\\\\Anaconda3\\\\envs\\\\TradingProgram\\\\lib\\\\site-packages', 'C:\\\\Users\\\\Calum\\\\Anaconda3\\\\envs\\\\TradingProgram\\\\lib\\\\site-packages\\\\win32', 'C:\\\\Users\\\\Calum\\\\Anaconda3\\\\envs\\\\TradingProgram\\\\lib\\\\site-packages\\\\win32\\\\lib', 'C:\\\\Users\\\\Calum\\\\Anaconda3\\\\envs\\\\TradingProgram\\\\lib\\\\site-packages\\\\Pythonwin', 'C:\\\\Users\\\\Calum\\\\Anaconda3\\\\envs\\\\TradingProgram\\\\lib\\\\site-packages\\\\IPython\\\\extensions', 'C:\\\\Users\\\\Calum\\\\.ipython']\n"
     ]
    }
   ],
   "source": [
    "print(sys.path)"
   ]
  },
  {
   "cell_type": "code",
   "execution_count": 5,
   "metadata": {},
   "outputs": [
    {
     "data": {
      "text/plain": [
       "'C:\\\\Users\\\\Calum\\\\Trading Program\\\\TradingProgram'"
      ]
     },
     "execution_count": 5,
     "metadata": {},
     "output_type": "execute_result"
    }
   ],
   "source": [
    "os.path.split(os.getcwd())[0]"
   ]
  },
  {
   "cell_type": "code",
   "execution_count": 6,
   "metadata": {},
   "outputs": [
    {
     "data": {
      "text/plain": [
       "('C:\\\\Users\\\\Calum\\\\Trading Program\\\\TradingProgram', 'Correlator')"
      ]
     },
     "execution_count": 6,
     "metadata": {},
     "output_type": "execute_result"
    }
   ],
   "source": [
    "os.path.split(os.getcwd())"
   ]
  },
  {
   "cell_type": "code",
   "execution_count": null,
   "metadata": {},
   "outputs": [],
   "source": []
  }
 ],
 "metadata": {
  "kernelspec": {
   "display_name": "Python 3",
   "language": "python",
   "name": "python3"
  },
  "language_info": {
   "codemirror_mode": {
    "name": "ipython",
    "version": 3
   },
   "file_extension": ".py",
   "mimetype": "text/x-python",
   "name": "python",
   "nbconvert_exporter": "python",
   "pygments_lexer": "ipython3",
   "version": "3.7.3"
  }
 },
 "nbformat": 4,
 "nbformat_minor": 2
}
