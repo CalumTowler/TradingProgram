{
 "cells": [
  {
   "cell_type": "code",
   "execution_count": 1,
   "metadata": {},
   "outputs": [],
   "source": [
    "from CorrelatorV4 import correlator\n",
    "import pandas as pd"
   ]
  },
  {
   "cell_type": "code",
   "execution_count": 2,
   "metadata": {},
   "outputs": [
    {
     "name": "stdout",
     "output_type": "stream",
     "text": [
      "Positively Correlated Stocks: \n",
      "{'MSFT - MU': 0.9294285705579143}\n",
      "Negatively Correlated Stocks: \n",
      "{}\n",
      "Stocks With No Correlation: \n",
      "{'MSFT - NEM': 0.438943009532414, 'MU - NEM': 0.5849870803992504}\n"
     ]
    }
   ],
   "source": [
    "correlator()"
   ]
  },
  {
   "cell_type": "code",
   "execution_count": 2,
   "metadata": {},
   "outputs": [
    {
     "name": "stdout",
     "output_type": "stream",
     "text": [
      "<class 'numpy.float64'>\n"
     ]
    }
   ],
   "source": []
  },
  {
   "cell_type": "code",
   "execution_count": 6,
   "metadata": {},
   "outputs": [
    {
     "name": "stdout",
     "output_type": "stream",
     "text": [
      "1*2\n",
      "1*3\n",
      "1*4\n",
      "1*5\n",
      "1*6\n",
      "1*7\n",
      "1*8\n",
      "1*9\n",
      "1*10\n",
      "2*3\n",
      "2*4\n",
      "2*5\n",
      "2*6\n",
      "2*7\n",
      "2*8\n",
      "2*9\n",
      "2*10\n",
      "3*4\n",
      "3*5\n",
      "3*6\n",
      "3*7\n",
      "3*8\n",
      "3*9\n",
      "3*10\n",
      "4*5\n",
      "4*6\n",
      "4*7\n",
      "4*8\n",
      "4*9\n",
      "4*10\n",
      "5*6\n",
      "5*7\n",
      "5*8\n",
      "5*9\n",
      "5*10\n",
      "6*7\n",
      "6*8\n",
      "6*9\n",
      "6*10\n",
      "7*8\n",
      "7*9\n",
      "7*10\n",
      "8*9\n",
      "8*10\n",
      "9*10\n"
     ]
    }
   ],
   "source": [
    "list = [1, 2, 3, 4, 5, 6, 7, 8, 9 ,10]\n",
    "i = 0\n",
    "j = 1\n",
    "c = len(list)\n",
    "\n",
    "while i < c:\n",
    "    while j < c:\n",
    "        print(str(list[i]) + '*' + str(list[j]))\n",
    "        j += 1\n",
    "    i += 1\n",
    "    j = i + 1"
   ]
  },
  {
   "cell_type": "code",
   "execution_count": null,
   "metadata": {},
   "outputs": [],
   "source": []
  }
 ],
 "metadata": {
  "kernelspec": {
   "display_name": "Python 3",
   "language": "python",
   "name": "python3"
  },
  "language_info": {
   "codemirror_mode": {
    "name": "ipython",
    "version": 3
   },
   "file_extension": ".py",
   "mimetype": "text/x-python",
   "name": "python",
   "nbconvert_exporter": "python",
   "pygments_lexer": "ipython3",
   "version": "3.7.3"
  }
 },
 "nbformat": 4,
 "nbformat_minor": 2
}
